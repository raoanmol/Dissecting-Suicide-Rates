{
 "cells": [
  {
   "cell_type": "markdown",
   "metadata": {},
   "source": [
    "# Dissecting Suicide Rates: A Data Analysis\n",
    "\n",
    "In this analysis, I have used the [Suicide Rates Overview 1985 to 2016](https://www.google.com/url?sa=t&rct=j&q=&esrc=s&source=web&cd=&cad=rja&uact=8&ved=2ahUKEwjP1_rn2oWAAxXjJUQIHS_rDN8QFnoECBsQAQ&url=https%3A%2F%2Fwww.kaggle.com%2Fdatasets%2Frussellyates88%2Fsuicide-rates-overview-1985-to-2016&usg=AOvVaw266zoceCvZ2DOJUzJ-xnEP&opi=89978449) dataset to perform a step by step analysis and answer the following questions:\n",
    "<ul>\n",
    "<li>How many people lost their lives to suicide each year?</li>\n",
    "<li>Which gender is more likely to commit suicide?</li>\n",
    "<li>Which age group tends to have the most victims?</li>\n",
    "<li>How are suicide rates related to the GDP per Capita?</li>\n",
    "<li>What are the average suicde rates across generations over time?</li>\n",
    "<li>When was this issue at its peak?</li>\n",
    "</ul>"
   ]
  },
  {
   "cell_type": "markdown",
   "metadata": {},
   "source": [
    "### Importing Libraries"
   ]
  },
  {
   "cell_type": "code",
   "execution_count": null,
   "metadata": {},
   "outputs": [],
   "source": [
    "import pandas as pd\n",
    "import numpy as np\n",
    "import matplotlib.pyplot as plt\n",
    "import seaborn as sns\n",
    "from scipy.interpolate import griddata"
   ]
  },
  {
   "cell_type": "markdown",
   "metadata": {},
   "source": [
    "### Loading the data"
   ]
  },
  {
   "cell_type": "code",
   "execution_count": null,
   "metadata": {},
   "outputs": [],
   "source": [
    "df = pd.read_csv('../data/master.csv')\n",
    "df.head()"
   ]
  },
  {
   "cell_type": "markdown",
   "metadata": {},
   "source": [
    "### Data Exploration"
   ]
  },
  {
   "cell_type": "code",
   "execution_count": null,
   "metadata": {},
   "outputs": [],
   "source": [
    "print(f'The dataset has {df.shape[0]} rows and {df.shape[1]} columns.')"
   ]
  },
  {
   "cell_type": "markdown",
   "metadata": {},
   "source": [
    "The dataset has 27820 rows and 12 columns."
   ]
  },
  {
   "cell_type": "code",
   "execution_count": null,
   "metadata": {},
   "outputs": [],
   "source": [
    "print('The column names are: ', df.columns.tolist())"
   ]
  },
  {
   "cell_type": "markdown",
   "metadata": {},
   "source": [
    "The column names are: country, year, sex, age, suicides_no, population, suicides/100k pop, country-year, HDI for year,  gdp_for_year \\(\\$\\) , gdp_per_capita \\(\\$\\), generation"
   ]
  },
  {
   "cell_type": "code",
   "execution_count": null,
   "metadata": {},
   "outputs": [],
   "source": [
    "print('The data types of the columns are:\\n', df.dtypes)"
   ]
  },
  {
   "cell_type": "markdown",
   "metadata": {},
   "source": [
    "<i>**NOTE:**</i> The data type of `gdp_for_year ($)` is 'object.' This is probably because of the commas"
   ]
  },
  {
   "cell_type": "code",
   "execution_count": null,
   "metadata": {},
   "outputs": [],
   "source": [
    "print(f'There are {df.duplicated().sum()} duplicate values in the dataset.')"
   ]
  },
  {
   "cell_type": "markdown",
   "metadata": {},
   "source": [
    "There are 0 duplicate values in the dataset."
   ]
  },
  {
   "cell_type": "code",
   "execution_count": null,
   "metadata": {},
   "outputs": [],
   "source": [
    "# Checking for missing values\n",
    "df.isnull().sum()"
   ]
  },
  {
   "cell_type": "markdown",
   "metadata": {},
   "source": [
    "<i>**NOTE:**</i> `HDI for year` is a column with 69.93% missing values."
   ]
  },
  {
   "cell_type": "code",
   "execution_count": null,
   "metadata": {},
   "outputs": [],
   "source": [
    "print('The possible values for age are: ', df['age'].unique())\n",
    "print('The possible values for sex are: ', df['sex'].unique())\n",
    "print('The possible values for generation are: ', df['generation'].unique())"
   ]
  },
  {
   "cell_type": "markdown",
   "metadata": {},
   "source": [
    "The possible values for age are: 15-24 years, 35-54 years, 75+ years, 25-34 years, 55-74 years, 5-14 years<br />\n",
    "The possible values for sex are: male, female<br />\n",
    "The possible values for generation are: Generation X, Silent, G.I. Generation, Boomers, Millenials, Generation Z<br />\n",
    "<br />\n",
    "<i>NOTE:</i> The ages are NOT categorized (5-14 years comes in the end)"
   ]
  },
  {
   "cell_type": "markdown",
   "metadata": {},
   "source": [
    "### Data Cleaning"
   ]
  },
  {
   "cell_type": "code",
   "execution_count": null,
   "metadata": {},
   "outputs": [],
   "source": [
    "df = df.drop(columns='HDI for year')\n",
    "# validation\n",
    "print('Updated columns: ', df.columns.tolist())"
   ]
  },
  {
   "cell_type": "markdown",
   "metadata": {},
   "source": [
    "Removed the `HDI for year` column beacuse of missing values"
   ]
  },
  {
   "cell_type": "code",
   "execution_count": null,
   "metadata": {},
   "outputs": [],
   "source": [
    "df['gdp_for_year ($)'] = df[' gdp_for_year ($) '].str.replace(',', '')\n",
    "df['gdp_for_year ($)'] = df['gdp_for_year ($)'].astype(float)\n",
    "# validation\n",
    "print('The data types of the columns now:\\n', df.dtypes)"
   ]
  },
  {
   "cell_type": "markdown",
   "metadata": {},
   "source": [
    "Removed commas from `gdp_for_year ($)` and changed its values to floats."
   ]
  },
  {
   "cell_type": "code",
   "execution_count": null,
   "metadata": {},
   "outputs": [],
   "source": [
    "# Ordering Age\n",
    "age_order = ['5-14 years', '15-24 years', '25-34 years', '35-54 years', '55-74 years', '75+ years']\n",
    "df['age'] = pd.Categorical(df['age'], categories=age_order, ordered=True)"
   ]
  },
  {
   "cell_type": "markdown",
   "metadata": {},
   "source": [
    "Categorized age values."
   ]
  },
  {
   "cell_type": "markdown",
   "metadata": {},
   "source": [
    "### Data Visualization"
   ]
  },
  {
   "cell_type": "code",
   "execution_count": null,
   "metadata": {},
   "outputs": [],
   "source": [
    "annual_suicides = df.groupby('year')['suicides_no'].sum().reset_index()\n",
    "\n",
    "sns.set_style(\"darkgrid\")\n",
    "sns.set_context(\"notebook\")\n",
    "\n",
    "plt.figure(figsize=(10,6))\n",
    "line_plot = sns.lineplot(x='year', y='suicides_no', data=annual_suicides, color='blue', linewidth=2.5)\n",
    "\n",
    "x = annual_suicides['year']\n",
    "y1 = annual_suicides['suicides_no']\n",
    "plt.fill_between(x, y1, color=\"blue\", alpha=0.1)\n",
    "\n",
    "plt.title('Annual Suicides Globally', fontsize=20, fontweight='bold')\n",
    "plt.xlabel('Year', fontsize=15)\n",
    "plt.ylabel('Number of Suicides', fontsize=15)\n",
    "sns.despine()\n",
    "plt.show()"
   ]
  },
  {
   "cell_type": "markdown",
   "metadata": {},
   "source": [
    "<i>**NOTE:**</i> The data for 2016 seems to be skewed due to incomplete data from that year. This is because of the cutoff date."
   ]
  },
  {
   "cell_type": "code",
   "execution_count": null,
   "metadata": {},
   "outputs": [],
   "source": [
    "suicides_and_gender = df.groupby('sex')['suicides_no'].sum().reset_index()\n",
    "\n",
    "sns.set_style(\"darkgrid\")\n",
    "sns.set_context(\"notebook\")\n",
    "\n",
    "plt.figure(figsize=(10,6))\n",
    "bar_plot = sns.barplot(x='sex', y='suicides_no', data=suicides_and_gender, palette=['#1f77b4', '#ff7f0e'])\n",
    "\n",
    "plt.title('Net Suicides by Gender', fontsize=20, fontweight='bold')\n",
    "plt.xlabel('Gender', fontsize=15)\n",
    "plt.ylabel('Number of Suicides', fontsize=15)\n",
    "\n",
    "for p in bar_plot.patches:\n",
    "    bar_plot.annotate(format(p.get_height(), '.0f'), \n",
    "                   (p.get_x() + p.get_width() / 2., p.get_height()), \n",
    "                   ha = 'center', va = 'center', \n",
    "                   xytext = (0, 10), \n",
    "                   textcoords = 'offset points')\n",
    "\n",
    "sns.despine()\n",
    "plt.show()"
   ]
  },
  {
   "cell_type": "markdown",
   "metadata": {},
   "source": [
    "This graph shows that males are 3.3x more likely to be victims than females."
   ]
  },
  {
   "cell_type": "code",
   "execution_count": null,
   "metadata": {},
   "outputs": [],
   "source": [
    "suicides_and_age = df.groupby('age')['suicides_no'].sum().reset_index()\n",
    "\n",
    "sns.set_style(\"darkgrid\")\n",
    "sns.set_context(\"notebook\")\n",
    "plt.figure(figsize=(10,6))\n",
    "bar_plot = sns.barplot(x='age', y='suicides_no', data=suicides_and_age, palette=sns.color_palette(\"husl\", 6))\n",
    "plt.title('Net Suicides by Age', fontsize=20, fontweight='bold')\n",
    "plt.xlabel('Age Group', fontsize=15)\n",
    "plt.ylabel('Number of Suicides', fontsize=15)\n",
    "plt.xticks(rotation=45, fontsize=12)\n",
    "plt.yticks(fontsize=12)\n",
    "\n",
    "for p in bar_plot.patches:\n",
    "    bar_plot.annotate(format(p.get_height(), '.0f'), \n",
    "                   (p.get_x() + p.get_width() / 2., p.get_height()), \n",
    "                   ha = 'center', va = 'center', \n",
    "                   xytext = (0, 10), \n",
    "                   textcoords = 'offset points')\n",
    "\n",
    "sns.despine()\n",
    "plt.show()"
   ]
  },
  {
   "cell_type": "markdown",
   "metadata": {},
   "source": [
    "Suicide rates among indivuduals spike after 35 years of age."
   ]
  },
  {
   "cell_type": "code",
   "execution_count": null,
   "metadata": {},
   "outputs": [],
   "source": [
    "suicides_and_gdp = df.groupby('country')[['suicides/100k pop', 'gdp_per_capita ($)']].mean().reset_index()\n",
    "\n",
    "sns.set_style(\"darkgrid\")\n",
    "sns.set_context(\"notebook\")\n",
    "\n",
    "plt.figure(figsize=(10,6))\n",
    "scatter_plot = sns.scatterplot(x='gdp_per_capita ($)', y='suicides/100k pop', data=suicides_and_gdp, color='red', alpha=0.6)\n",
    "\n",
    "plt.title('Average Suicide Rates vs. GDP per Capita', fontsize=20, fontweight='bold')\n",
    "plt.xlabel('GDP per Capita', fontsize=15)\n",
    "plt.ylabel('Suicides per 100k People', fontsize=15)\n",
    "\n",
    "plt.grid(True, linestyle='-', linewidth=0.5)\n",
    "sns.despine()\n",
    "\n",
    "plt.show()"
   ]
  },
  {
   "cell_type": "markdown",
   "metadata": {},
   "source": [
    "There seems to be no clear trend with lower GDP countries showing a massive variation in average suicide rates."
   ]
  },
  {
   "cell_type": "code",
   "execution_count": null,
   "metadata": {},
   "outputs": [],
   "source": [
    "suicides_and_generations = df.groupby(['year', 'generation'])['suicides/100k pop'].mean().reset_index()\n",
    "\n",
    "sns.set_style(\"darkgrid\")\n",
    "sns.set_context(\"notebook\")\n",
    "\n",
    "plt.figure(figsize=(12,8))\n",
    "line_plot = sns.lineplot(x='year', y='suicides/100k pop', hue='generation', data=suicides_and_generations, palette=sns.color_palette(\"husl\", 6), linewidth=2.5)\n",
    "\n",
    "plt.title('Average Suicide Rates Over Time by Generation', fontsize=20, fontweight='bold')\n",
    "plt.xlabel('Year', fontsize=15)\n",
    "plt.ylabel('Suicides per 100k People', fontsize=15)\n",
    "\n",
    "plt.grid(True, linestyle='-', linewidth=0.5, color='white')\n",
    "plt.legend(loc='upper right', title='Generation', title_fontsize='13', fontsize='12', facecolor='darkgrey')\n",
    "\n",
    "sns.despine()\n",
    "plt.show()"
   ]
  },
  {
   "cell_type": "markdown",
   "metadata": {},
   "source": [
    "The rate of change of suicide rates seem to be similar across generation with the progression of time. This indicates that the tendency to commit suicide is directly linked to the state of the world regardless of generation."
   ]
  },
  {
   "cell_type": "code",
   "execution_count": null,
   "metadata": {},
   "outputs": [],
   "source": [
    "grouped_df = df.groupby(['year', 'age', 'sex'])['suicides_no'].sum().reset_index()\n",
    "\n",
    "age_mapping = {'5-14 years': 10, '15-24 years': 20, '25-34 years': 30, '35-54 years': 45, '55-74 years': 65, '75+ years': 80}\n",
    "grouped_df['age_num'] = grouped_df['age'].map(age_mapping)\n",
    "\n",
    "mean_suicides = grouped_df.groupby(['year', 'age_num'])['suicides_no'].mean().reset_index()\n",
    "\n",
    "years_grid, age_num_grid = np.mgrid[mean_suicides['year'].min():mean_suicides['year'].max():100j, \n",
    "                                    mean_suicides['age_num'].min():mean_suicides['age_num'].max():100j]\n",
    "\n",
    "suicides_grid = griddata((mean_suicides['year'], mean_suicides['age_num']), mean_suicides['suicides_no'], \n",
    "                         (years_grid, age_num_grid), method='cubic')\n",
    "\n",
    "fig = plt.figure(figsize=(16, 9))\n",
    "ax = fig.add_subplot(111, projection='3d')\n",
    "\n",
    "surf = ax.plot_surface(years_grid, age_num_grid, suicides_grid, cmap='cool', edgecolor='k')\n",
    "\n",
    "ax.set_xlabel('Year', fontsize=12)\n",
    "ax.set_ylabel('Age', fontsize=12)\n",
    "ax.set_zlabel('Suicides', fontsize=12)\n",
    "ax.set_title('Suicides by Year and Age Group', fontsize=12)\n",
    "\n",
    "fig.colorbar(surf, shrink=0.5, aspect=10)\n",
    "\n",
    "plt.show()"
   ]
  },
  {
   "cell_type": "markdown",
   "metadata": {},
   "source": [
    "This graph shows that suicide rates peaked between 1995 and 2000 between the people of ages 40 and 50."
   ]
  }
 ],
 "metadata": {
  "kernelspec": {
   "display_name": "venv",
   "language": "python",
   "name": "python3"
  },
  "language_info": {
   "codemirror_mode": {
    "name": "ipython",
    "version": 3
   },
   "file_extension": ".py",
   "mimetype": "text/x-python",
   "name": "python",
   "nbconvert_exporter": "python",
   "pygments_lexer": "ipython3",
   "version": "3.11.4"
  },
  "orig_nbformat": 4
 },
 "nbformat": 4,
 "nbformat_minor": 2
}
